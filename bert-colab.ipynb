{
  "nbformat": 4,
  "nbformat_minor": 0,
  "metadata": {
    "colab": {
      "provenance": [],
      "authorship_tag": "ABX9TyO1w3JLLtpKOO798Qih6cZ7",
      "include_colab_link": true
    },
    "kernelspec": {
      "name": "python3",
      "display_name": "Python 3"
    },
    "language_info": {
      "name": "python"
    }
  },
  "cells": [
    {
      "cell_type": "markdown",
      "metadata": {
        "id": "view-in-github",
        "colab_type": "text"
      },
      "source": [
        "<a href=\"https://colab.research.google.com/github/scorzo/colab-bert/blob/main/bert-colab.ipynb\" target=\"_parent\"><img src=\"https://colab.research.google.com/assets/colab-badge.svg\" alt=\"Open In Colab\"/></a>"
      ]
    },
    {
      "cell_type": "markdown",
      "source": [
        "# rest functions"
      ],
      "metadata": {
        "id": "VM57LH2z3YsW"
      }
    },
    {
      "cell_type": "code",
      "execution_count": null,
      "metadata": {
        "id": "5B1TDLP89NuG"
      },
      "outputs": [],
      "source": [
        "from flask import Flask, request, jsonify\n",
        "from transformers import BertModel, BertTokenizer\n",
        "import torch\n",
        "import weaviate\n",
        "from langchain import embeddings\n",
        "\n",
        "# Initialize Flask app\n",
        "app = Flask(__name__)\n",
        "\n",
        "# Load pre-trained BERT model and tokenizer\n",
        "model_name = 'bert-base-uncased'\n",
        "tokenizer = BertTokenizer.from_pretrained(model_name)\n",
        "model = BertModel.from_pretrained(model_name)\n",
        "\n",
        "# Initialize Weaviate client\n",
        "client = weaviate.Client(\"http://localhost:8080\")  # Replace with your Weaviate instance URL\n",
        "\n",
        "# Check if the necessary class exists in Weaviate, create if not\n",
        "schema = {\n",
        "    \"classes\": [\n",
        "        {\n",
        "            \"class\": \"SupportTicket\",\n",
        "            \"vectorizer\": \"none\",  # As we use BERT for embeddings\n",
        "            \"properties\": [\n",
        "                {\n",
        "                    \"name\": \"description\",\n",
        "                    \"dataType\": [\"text\"],\n",
        "                },\n",
        "                {\n",
        "                    \"name\": \"embedding\",\n",
        "                    \"dataType\": [\"number[]\"],\n",
        "                }\n",
        "            ],\n",
        "        }\n",
        "    ]\n",
        "}\n",
        "client.schema.create(schema)\n",
        "\n",
        "# Function to generate embeddings\n",
        "def generate_embeddings(text):\n",
        "    inputs = tokenizer(text, return_tensors='pt', truncation=True, max_length=512)\n",
        "    outputs = model(**inputs)\n",
        "    return outputs.last_hidden_state.mean(dim=1).detach().numpy()[0]\n",
        "\n",
        "# REST API to create embeddings for a ticket and store it\n",
        "@app.route('/create_ticket', methods=['POST'])\n",
        "def create_ticket():\n",
        "    data = request.json\n",
        "    issue_description = data['Detailed Description']\n",
        "    embedding = generate_embeddings(issue_description)\n",
        "\n",
        "    # Store in Weaviate\n",
        "    ticket_uuid = client.data_object.create(\n",
        "        data_object={\n",
        "            \"description\": issue_description,\n",
        "            \"embedding\": embedding.tolist()\n",
        "        },\n",
        "        class_name=\"SupportTicket\"\n",
        "    )\n",
        "\n",
        "    return jsonify({\"ticket_uuid\": ticket_uuid})\n",
        "\n",
        "# REST API to query similar tickets\n",
        "@app.route('/query_tickets', methods=['POST'])\n",
        "def query_tickets():\n",
        "    query = request.json['query']\n",
        "    query_embedding = generate_embeddings(query)\n",
        "\n",
        "    # Query similar tickets from Weaviate\n",
        "    similar_tickets = client.query.get(\n",
        "        class_name=\"SupportTicket\",\n",
        "        properties=[\"description\"]\n",
        "    ).with_near_vector(\n",
        "        vector=query_embedding,\n",
        "        certainty=True\n",
        "    ).do()\n",
        "\n",
        "    return jsonify({\"similar_tickets\": similar_tickets})"
      ]
    },
    {
      "cell_type": "markdown",
      "source": [
        "# test using csv file w/o rest"
      ],
      "metadata": {
        "id": "CDNkJ40l3hht"
      }
    },
    {
      "cell_type": "code",
      "source": [
        "def read_tickets_from_csv(file_path):\n",
        "    \"\"\"\n",
        "    Read tickets from a CSV file and return them as a list of dictionaries.\n",
        "    \"\"\"\n",
        "    df = pd.read_csv(file_path)\n",
        "    return df.to_dict(orient='records')\n",
        "\n",
        "def process_ticket(ticket_id, issue_description):\n",
        "    \"\"\"\n",
        "    Process a single ticket: generate its embedding and store it in the vector database.\n",
        "    \"\"\"\n",
        "    embedding = generate_embeddings(issue_description)\n",
        "\n",
        "    # Store in Weaviate (or any other vector DB)\n",
        "    ticket_uuid = client.data_object.create(\n",
        "        data_object={\n",
        "            \"ticket_id\": ticket_id,\n",
        "            \"description\": issue_description,\n",
        "            \"embedding\": embedding.tolist()\n",
        "        },\n",
        "        class_name=\"SupportTicket\"\n",
        "    )\n",
        "    return ticket_uuid\n",
        "\n",
        "# Function to process all tickets in the CSV file\n",
        "def process_all_tickets(file_path):\n",
        "    tickets = read_tickets_from_csv(file_path)\n",
        "    for ticket in tickets:\n",
        "        ticket_id = ticket['Ticket ID']\n",
        "        description = ticket['Support Issue Description']\n",
        "        process_ticket(ticket_id, description)"
      ],
      "metadata": {
        "id": "t_oir1DA3N_e"
      },
      "execution_count": null,
      "outputs": []
    },
    {
      "cell_type": "markdown",
      "source": [
        "# run code"
      ],
      "metadata": {
        "id": "Fyboftu73rmm"
      }
    },
    {
      "cell_type": "code",
      "source": [
        "if __name__ == '__main__':\n",
        "    #app.run(debug=True)\n",
        "    csv_file_path = './content/sample_data/support_tickets.csv'  # path to CSV file\n",
        "    process_all_tickets(csv_file_path)"
      ],
      "metadata": {
        "id": "Msl70ow83Vj3"
      },
      "execution_count": null,
      "outputs": []
    }
  ]
}